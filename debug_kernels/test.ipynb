{
 "cells": [
  {
   "cell_type": "code",
   "execution_count": 4,
   "id": "a365dc55-0cb2-4b77-b131-c6b432506483",
   "metadata": {},
   "outputs": [],
   "source": [
    "import cv2\n",
    "\n",
    "def print_image_dimensions(image_path):\n",
    "    # Load the image from the given path\n",
    "    image = cv2.imread(image_path)\n",
    "    \n",
    "    # Check if the image was loaded successfully\n",
    "    if image is None:\n",
    "        print(f\"Error: Could not load image from {image_path}\")\n",
    "        return\n",
    "    \n",
    "    # Get the dimensions of the image\n",
    "    height, width, channels = image.shape\n",
    "    \n",
    "    # Print the dimensions\n",
    "    print(f\"Image dimensions: {width} x {height} (Width x Height)\")\n",
    "    print(f\"Number of channels: {channels}\")\n"
   ]
  },
  {
   "cell_type": "code",
   "execution_count": 5,
   "id": "b9c9395e-e900-4407-9fc9-a9a00273039d",
   "metadata": {},
   "outputs": [
    {
     "name": "stdout",
     "output_type": "stream",
     "text": [
      "Image dimensions: 1001 x 1001 (Width x Height)\n",
      "Number of channels: 3\n"
     ]
    }
   ],
   "source": [
    "image_path = \"/scratch/Maheen/DiffDL/debug_kernels/kernel_999_1755199513677.png\"\n",
    "print_image_dimensions(image_path)"
   ]
  },
  {
   "cell_type": "code",
   "execution_count": null,
   "id": "60be7e55-540d-417a-ab30-a68262ec999b",
   "metadata": {},
   "outputs": [],
   "source": []
  },
  {
   "cell_type": "code",
   "execution_count": null,
   "id": "70106a8d-8446-4d5c-8eec-ddb9be0530ec",
   "metadata": {},
   "outputs": [],
   "source": []
  }
 ],
 "metadata": {
  "kernelspec": {
   "display_name": "Python 3 (ipykernel)",
   "language": "python",
   "name": "python3"
  },
  "language_info": {
   "codemirror_mode": {
    "name": "ipython",
    "version": 3
   },
   "file_extension": ".py",
   "mimetype": "text/x-python",
   "name": "python",
   "nbconvert_exporter": "python",
   "pygments_lexer": "ipython3",
   "version": "3.10.6"
  }
 },
 "nbformat": 4,
 "nbformat_minor": 5
}
